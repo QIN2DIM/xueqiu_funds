{
 "cells": [
  {
   "metadata": {
    "ExecuteTime": {
     "end_time": "2024-03-29T02:21:04.337392Z",
     "start_time": "2024-03-29T02:21:04.323226Z"
    }
   },
   "cell_type": "code",
   "source": [
    "import json\n",
    "from pathlib import Path\n",
    "from typing import List, Tuple, Dict, Any\n",
    "\n",
    "from xueqiu_funds import XueQiuFunds"
   ],
   "id": "22ff3652bfff529e",
   "outputs": [],
   "execution_count": 45
  },
  {
   "metadata": {
    "ExecuteTime": {
     "end_time": "2024-03-29T02:21:04.351905Z",
     "start_time": "2024-03-29T02:21:04.338905Z"
    }
   },
   "cell_type": "code",
   "source": [
    "runtime_dir = Path(\"__file__\").parent.joinpath(\"runtime\")\n",
    "runtime_dir.mkdir(parents=True, exist_ok=True)\n",
    "\n",
    "FeeType = Tuple[str, List[Dict[str, Any]]]"
   ],
   "id": "a0e7b97feeebbf56",
   "outputs": [],
   "execution_count": 46
  },
  {
   "metadata": {
    "ExecuteTime": {
     "end_time": "2024-03-29T02:21:04.367905Z",
     "start_time": "2024-03-29T02:21:04.353909Z"
    }
   },
   "cell_type": "code",
   "source": [
    "table = []\n",
    "\n",
    "\n",
    "def run(fd_codes_):\n",
    "    table.clear()\n",
    "\n",
    "    xqf = XueQiuFunds()\n",
    "\n",
    "    for fd_code in fd_codes_:\n",
    "        detail = xqf.get_fund_detail(fd_code)\n",
    "        intro = xqf.get_fund_intro(fd_code)\n",
    "\n",
    "        if (fd_name := intro[\"data\"][\"fd_name\"]) and (\n",
    "                other_rate_table := detail[\"data\"][\"fund_rates\"][\"other_rate_table\"]\n",
    "        ):\n",
    "            cell = {\"基金名称\": fd_name}\n",
    "            cell_1 = {i[\"name\"]: float(i[\"value\"]) for i in other_rate_table}\n",
    "            cell[\"总计\"] = sum(cell_1.values())\n",
    "            cell.update(cell_1)\n",
    "\n",
    "            table.append(cell)\n",
    "\n",
    "            # Cache memory\n",
    "            fdr = runtime_dir.joinpath(f\"{fd_code}_{fd_name}\")\n",
    "            fdr.mkdir(parents=True, exist_ok=True)\n",
    "\n",
    "            fdr.joinpath(\"fund_detail.json\").write_text(\n",
    "                json.dumps(detail, ensure_ascii=False), encoding=\"utf8\"\n",
    "            )\n",
    "            fdr.joinpath(\"fund_intro.json\").write_text(\n",
    "                json.dumps(intro, ensure_ascii=False), encoding=\"utf8\"\n",
    "            )\n"
   ],
   "id": "initial_id",
   "outputs": [],
   "execution_count": 47
  },
  {
   "metadata": {
    "ExecuteTime": {
     "end_time": "2024-03-29T02:21:05.970407Z",
     "start_time": "2024-03-29T02:21:04.369909Z"
    }
   },
   "cell_type": "code",
   "source": [
    "import pandas as pd\n",
    "\n",
    "fd_codes = [\n",
    "    \"012832\",\n",
    "    \"003766\",\n",
    "    \"018735\",\n",
    "    \"007339\",\n",
    "    \"011613\",\n",
    "    \"004855\",\n",
    "    \"016858\",\n",
    "]\n",
    "\n",
    "run(fd_codes)\n",
    "pd.DataFrame.from_dict(table).sort_values(by=\"总计\", ignore_index=True)"
   ],
   "id": "c53c85c829b24e8d",
   "outputs": [
    {
     "data": {
      "text/plain": [
       "                  基金名称    总计  基金管理费  基金托管费  销售服务费\n",
       "0          广发创业板ETF联接C  0.40   0.15   0.05   0.20\n",
       "1       易方达沪深300ETF联接C  0.40   0.15   0.05   0.20\n",
       "2        南方中证新能源ETF联接C  0.50   0.15   0.05   0.30\n",
       "3          广发中证全指汽车指数C  0.80   0.50   0.10   0.20\n",
       "4  华夏中证绿色电力50ETF发起式联接C  0.85   0.50   0.10   0.25\n",
       "5    华夏上证科创板50成份ETF联接C  0.85   0.50   0.10   0.25\n",
       "6             国金量化多因子C  1.80   1.20   0.20   0.40"
      ],
      "text/html": [
       "<div>\n",
       "<style scoped>\n",
       "    .dataframe tbody tr th:only-of-type {\n",
       "        vertical-align: middle;\n",
       "    }\n",
       "\n",
       "    .dataframe tbody tr th {\n",
       "        vertical-align: top;\n",
       "    }\n",
       "\n",
       "    .dataframe thead th {\n",
       "        text-align: right;\n",
       "    }\n",
       "</style>\n",
       "<table border=\"1\" class=\"dataframe\">\n",
       "  <thead>\n",
       "    <tr style=\"text-align: right;\">\n",
       "      <th></th>\n",
       "      <th>基金名称</th>\n",
       "      <th>总计</th>\n",
       "      <th>基金管理费</th>\n",
       "      <th>基金托管费</th>\n",
       "      <th>销售服务费</th>\n",
       "    </tr>\n",
       "  </thead>\n",
       "  <tbody>\n",
       "    <tr>\n",
       "      <th>0</th>\n",
       "      <td>广发创业板ETF联接C</td>\n",
       "      <td>0.40</td>\n",
       "      <td>0.15</td>\n",
       "      <td>0.05</td>\n",
       "      <td>0.20</td>\n",
       "    </tr>\n",
       "    <tr>\n",
       "      <th>1</th>\n",
       "      <td>易方达沪深300ETF联接C</td>\n",
       "      <td>0.40</td>\n",
       "      <td>0.15</td>\n",
       "      <td>0.05</td>\n",
       "      <td>0.20</td>\n",
       "    </tr>\n",
       "    <tr>\n",
       "      <th>2</th>\n",
       "      <td>南方中证新能源ETF联接C</td>\n",
       "      <td>0.50</td>\n",
       "      <td>0.15</td>\n",
       "      <td>0.05</td>\n",
       "      <td>0.30</td>\n",
       "    </tr>\n",
       "    <tr>\n",
       "      <th>3</th>\n",
       "      <td>广发中证全指汽车指数C</td>\n",
       "      <td>0.80</td>\n",
       "      <td>0.50</td>\n",
       "      <td>0.10</td>\n",
       "      <td>0.20</td>\n",
       "    </tr>\n",
       "    <tr>\n",
       "      <th>4</th>\n",
       "      <td>华夏中证绿色电力50ETF发起式联接C</td>\n",
       "      <td>0.85</td>\n",
       "      <td>0.50</td>\n",
       "      <td>0.10</td>\n",
       "      <td>0.25</td>\n",
       "    </tr>\n",
       "    <tr>\n",
       "      <th>5</th>\n",
       "      <td>华夏上证科创板50成份ETF联接C</td>\n",
       "      <td>0.85</td>\n",
       "      <td>0.50</td>\n",
       "      <td>0.10</td>\n",
       "      <td>0.25</td>\n",
       "    </tr>\n",
       "    <tr>\n",
       "      <th>6</th>\n",
       "      <td>国金量化多因子C</td>\n",
       "      <td>1.80</td>\n",
       "      <td>1.20</td>\n",
       "      <td>0.20</td>\n",
       "      <td>0.40</td>\n",
       "    </tr>\n",
       "  </tbody>\n",
       "</table>\n",
       "</div>"
      ]
     },
     "execution_count": 48,
     "metadata": {},
     "output_type": "execute_result"
    }
   ],
   "execution_count": 48
  }
 ],
 "metadata": {
  "kernelspec": {
   "display_name": "Python 3",
   "language": "python",
   "name": "python3"
  },
  "language_info": {
   "codemirror_mode": {
    "name": "ipython",
    "version": 2
   },
   "file_extension": ".py",
   "mimetype": "text/x-python",
   "name": "python",
   "nbconvert_exporter": "python",
   "pygments_lexer": "ipython2",
   "version": "2.7.6"
  }
 },
 "nbformat": 4,
 "nbformat_minor": 5
}
